{
 "cells": [
  {
   "cell_type": "code",
   "execution_count": null,
   "id": "37e57c12",
   "metadata": {},
   "outputs": [],
   "source": [
    "import torch\n",
    "import torchvision\n",
    "import os\n",
    "import numpy as np\n",
    "import matplotlib.patches as patches\n",
    "import matplotlib.pyplot as plt\n",
    "import torchvision\n",
    "from torchvision import transforms, datasets, models\n",
    "from torchvision.models.detection.faster_rcnn import FastRCNNPredictor\n",
    "import time\n",
    "import random\n",
    "import shutil\n",
    "import os\n",
    "import glob\n",
    "import pandas as pd\n",
    "import xml.etree.ElementTree as ET\n",
    "import cv2\n",
    "from PIL import Image as im\n",
    "import albumentations\n",
    "\n",
    "# equation from https://pillow.readthedocs.io/en/stable/reference/Image.html#PIL.Image.Image.convert\n",
    "def togray(rgb):\n",
    "    return np.dot(rgb[...,:3], [0.2989, 0.5870, 0.1140])"
   ]
  },
  {
   "cell_type": "code",
   "execution_count": null,
   "id": "acfbe577",
   "metadata": {},
   "outputs": [],
   "source": [
    "torch.cuda.empty_cache() "
   ]
  },
  {
   "cell_type": "code",
   "execution_count": null,
   "id": "97dff2e9",
   "metadata": {},
   "outputs": [],
   "source": [
    "%cd Faster_RCNN"
   ]
  },
  {
   "cell_type": "code",
   "execution_count": null,
   "id": "b54f5098",
   "metadata": {},
   "outputs": [],
   "source": [
    "img_lst = [\n",
    "# I remove some images during 11 rounds of image quality check\n",
    "'Gqm36jq0tQuYnLqWzGo3Ug','Zs_xFrbRC5Q156zWzpU2Qg','M2eB1wtGEsLtiOzTIpCALA','mI6xbDdBbBZ_yBqKSJB30g',\n",
    "'mhFpDqcxuckfJho3xaJWRw','JqFDjRUDWjOxPlag5cDViQ','bSScQ4PbF49TOpQ3IIhzrQ',\n",
    "'mPxV4HxCk-85SNCVdUeKdw','X8Mw7DFG24oN1uk91VQheQ','dtGJg_hFK_2G-IyqjxAutA','lMU6tm4TwMM7NYCKQ15Bgg',\n",
    "'Sh0b5UAEOzGJDgDkvdPBqw','izNoQd5-yz_nydU5jRNwfQ','32e2-fiOfRGH-aOi_FhGwA','7FNvh4Ya_3aIYDCSVMUKNQ',\n",
    "'online_50','online3','online_41','online_33','online74','online68','online65','online77',\n",
    "'online72','online64','online_42','online_35','online63','online_32',\n",
    "'online_40','online53','online13','online19','online75','online51',\n",
    "'online5','online_25','online_36','online61',\n",
    "'online57','online55','online20','online_26','online_34','online62','online1','online59','online4',\n",
    "'online14','online56','online66','online_37','online69','online76','online15','online12',\n",
    "'online_45','online60','online67','online_27','online58','online7','online54','online_31',\n",
    "'online_39','online73','online22','online_49','online_46','online70','online_24','online6',\n",
    "'online21','online11','online_44','online_43','online16',\n",
    "'online71','online_47','online_30','online_38','online52','online_48','online23',\n",
    "# 'GOPR6632',# 'GOPR6638',# 'GOPR6657',# 'GOPR6707',# 'GOPR6797', # 'YykKYLkLL6IX_jiizQf9Lg',# 'ty8tjWSRCzPHH5CUUPXppQ',\n",
    "# 'online17', # 'online10',# 'online9',# 'online18', # 'online8',# 'online_28',# 'online2',\n",
    "'0027','0029','0101','6585','6587','6618','6622','6623','6624','6625','6645','6647','6690','6739','6741','6676',\n",
    "'6673','6679','6678','6686','6682','6729','6691','6755','6730']"
   ]
  },
  {
   "cell_type": "code",
   "execution_count": null,
   "id": "79772862",
   "metadata": {},
   "outputs": [],
   "source": [
    "source = '/home/yuchen/venv/Faster_RCNN/data_sign/total_images'\n",
    "train_image_source = '/home/yuchen/venv/Faster_RCNN/data_sign/train_images'\n",
    "train_label_source = '/home/yuchen/venv/Faster_RCNN/data_sign/train_labels'\n",
    "label_source = '/home/yuchen/venv/Faster_RCNN/data_sign/total_labels'\n",
    "valid_image_dest = '/home/yuchen/venv/Faster_RCNN/data_sign/valid_images'\n",
    "valid_label_dest = '/home/yuchen/venv/Faster_RCNN/data_sign/valid_labels'\n",
    "test_image_source = '/home/yuchen/venv/Faster_RCNN/data_sign/test_images'\n",
    "test_label_source = '/home/yuchen/venv/Faster_RCNN/data_sign/test_labels'\n",
    "\n",
    "files = glob.glob(train_image_source + '/*')\n",
    "files.extend(glob.glob(train_label_source + '/*'))\n",
    "files.extend(glob.glob(valid_image_dest + '/*'))\n",
    "files.extend(glob.glob(valid_label_dest + '/*'))\n",
    "\n",
    "# remove existing files\n",
    "for f in files:\n",
    "    os.remove(f)\n",
    "\n",
    "# copy everything to train set\n",
    "for file_name in glob.glob('/home/yuchen/venv/Faster_RCNN/data_sign/total_images/*'):\n",
    "    file_name_temp = file_name[53:-4]\n",
    "    if file_name_temp in img_lst:\n",
    "        shutil.copy(os.path.join(source, file_name), train_image_source)\n",
    "        shutil.copy(os.path.join(label_source, label_source + '/' + file_name_temp +'.xml'), train_label_source)\n",
    "    \n",
    "# 8/2 train/valid split\n",
    "files = os.listdir(train_image_source)\n",
    "no_of_files = len(files) // 5\n",
    "\n",
    "random.seed(42)\n",
    "for file_name in random.sample(files, no_of_files):\n",
    "    shutil.move(os.path.join(train_image_source, file_name), valid_image_dest)\n",
    "    shutil.move(os.path.join(train_label_source, file_name[:-4]+'.xml'), valid_label_dest)"
   ]
  },
  {
   "cell_type": "code",
   "execution_count": null,
   "id": "22fe98f8",
   "metadata": {},
   "outputs": [],
   "source": [
    "files = glob.glob('/home/yuchen/venv/Faster_RCNN/data_sign/train_labels/*')\n",
    "files.extend(glob.glob('/home/yuchen/venv/Faster_RCNN/data_sign/valid_labels/*'))\n",
    "\n",
    "for file_name in files:\n",
    "    mytree = ET.parse(file_name)\n",
    "    myroot = mytree.getroot()\n",
    "    img_w = int(myroot[4].find('width').text)\n",
    "    img_h = int(myroot[4].find('height').text)\n",
    "\n",
    "    lst = []\n",
    "    ct = 0\n",
    "    for obj in myroot.iter('object'):\n",
    "        ct += 1\n",
    "        xmin = int(obj.find('bndbox').find('xmin').text)\n",
    "        xmax = int(obj.find('bndbox').find('xmax').text)\n",
    "        ymin = int(obj.find('bndbox').find('ymin').text)\n",
    "        ymax = int(obj.find('bndbox').find('ymax').text)\n",
    "\n",
    "        w = (xmax-xmin) / img_w * 1280\n",
    "        h = (ymax-ymin) / img_h * 1280\n",
    "        \n",
    "        if w*h <= 300:\n",
    "            lst.append(obj)\n",
    "            \n",
    "    if len(lst) != 0:\n",
    "        if ct == len(lst):\n",
    "            os.remove(file_name)\n",
    "            os.remove(glob.glob('/home/yuchen/venv/Faster_RCNN/data_sign/' + file_name[40:45] + '_images/' + file_name[52:-4] + '*')[0])\n",
    "            print('remove the entire file ' + file_name)\n",
    "        else:\n",
    "            for i in reversed(lst):\n",
    "                myroot.remove(i)\n",
    "            mytree.write(file_name)\n",
    "            print('removed ' + str(len(lst)) + ' bounding boxes from ' + file_name[53:])"
   ]
  },
  {
   "cell_type": "code",
   "execution_count": null,
   "id": "93282749",
   "metadata": {},
   "outputs": [],
   "source": [
    "# replace each image's 3rd channel with its grayscale version\n",
    "# this will lead images to appear more red and green and less blue, \n",
    "# and can improve the model's performance on both validation and test sets\n",
    "files = glob.glob('/home/yuchen/venv/Faster_RCNN/data_sign/train_images/*')\n",
    "files.extend(glob.glob('/home/yuchen/venv/Faster_RCNN/data_sign/valid_images/*'))\n",
    "\n",
    "for file_name in files:\n",
    "    img = np.array(im.open(file_name).copy())\n",
    "    img_copy  = togray(img)\n",
    "    img[:,:,-1] = img_copy\n",
    "    img = im.fromarray(img).copy()\n",
    "    img.save(file_name)"
   ]
  },
  {
   "cell_type": "code",
   "execution_count": null,
   "id": "f80bd351",
   "metadata": {},
   "outputs": [],
   "source": [
    "! python train.py \\\n",
    "--batch 10 \\\n",
    "--epochs 30 \\\n",
    "--name test_run"
   ]
  }
 ],
 "metadata": {
  "kernelspec": {
   "display_name": "Python 3 (ipykernel)",
   "language": "python",
   "name": "python3"
  },
  "language_info": {
   "codemirror_mode": {
    "name": "ipython",
    "version": 3
   },
   "file_extension": ".py",
   "mimetype": "text/x-python",
   "name": "python",
   "nbconvert_exporter": "python",
   "pygments_lexer": "ipython3",
   "version": "3.10.6"
  }
 },
 "nbformat": 4,
 "nbformat_minor": 5
}
